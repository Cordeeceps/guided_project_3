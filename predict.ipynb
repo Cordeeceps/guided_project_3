{
 "cells": [
  {
   "cell_type": "code",
   "execution_count": 3,
   "metadata": {},
   "outputs": [],
   "source": [
    "import pickle\n",
    "import pandas as pd\n",
    "from sklearn.linear_model import LogisticRegression\n",
    "from sklearn.model_selection import train_test_split\n",
    "from sklearn.metrics import accuracy_score\n",
    "\n",
    "# Load the dataset as a dataframe\n",
    "url = \"./troop_movements.csv\"\n",
    "df = pd.read_csv(url)"
   ]
  },
  {
   "cell_type": "code",
   "execution_count": null,
   "metadata": {},
   "outputs": [],
   "source": [
    "# first three problems are all similar to this\n",
    "df.groupby([empire_or_resistance, homeworld])\n",
    "\n",
    "# new column is_resistance with t/f value based on empire_or_resistance\n",
    "def foo(x):\n",
    "    df['empire_or_resistance'].apply\n",
    "\n",
    "\n",
    "# make the graph \n",
    "import seaborn as sns \n",
    "\n",
    "sns.barplot()"
   ]
  },
  {
   "cell_type": "code",
   "execution_count": null,
   "metadata": {},
   "outputs": [],
   "source": [
    "# set target variable - is_resistance is best because it's a boolean\n",
    "y = df['is_resistance']\n",
    "\n",
    "# column/s we're using to predict the target variable\n",
    "X = df[['unit_type','homeworld']]\n",
    "\n",
    "# onehotencoding to pivot data\n",
    "X_encoded = pd.get_dummies(X)\n",
    "\n",
    "# split data for testing and training\n",
    "X_train,X_test,y_train,y_test = train_test_split(X_encoded, y, test_size=0.2, random_state=42)\n",
    "\n",
    "# display for testing  \n",
    "#display(X_train) \n",
    "\n",
    "# create the model \n",
    "model = LogisticRegression()\n",
    "\n",
    "# feed the model the training data created earlier \n",
    "model.fit(X_train, y_train)\n",
    "\n",
    "# show the predictions used by the testing - pass in the values you want to predict\n",
    "y_pred = model.predict(X_test)\n",
    "\n",
    "# compare test values to predicted values for our target and prints results \n",
    "# lower than 70% isn't good, 100% is also really suspicious \n",
    "accuracy = accuracy_score(y_test, y_pred)\n",
    "print(accuracy)\n",
    "\n",
    "# save whatever we have in memory (the model we trained) to the local disk\n",
    "# we can now use this model for future stuff\n",
    "filename = \"model.pkl\"\n",
    "with open(filename,\"wb\") as file: \n",
    "    pickle.dump(model,file)"
   ]
  }
 ],
 "metadata": {
  "kernelspec": {
   "display_name": "Python 3",
   "language": "python",
   "name": "python3"
  },
  "language_info": {
   "codemirror_mode": {
    "name": "ipython",
    "version": 3
   },
   "file_extension": ".py",
   "mimetype": "text/x-python",
   "name": "python",
   "nbconvert_exporter": "python",
   "pygments_lexer": "ipython3",
   "version": "3.12.3"
  }
 },
 "nbformat": 4,
 "nbformat_minor": 2
}
