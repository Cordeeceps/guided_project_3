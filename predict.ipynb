{
 "cells": [
  {
   "cell_type": "code",
   "execution_count": 3,
   "metadata": {},
   "outputs": [],
   "source": [
    "import pickle\n",
    "import pandas as pd\n",
    "from sklearn.linear_model import LogisticRegression\n",
    "from sklearn.model_selection import train_test_split\n",
    "from sklearn.metrics import accuracy_score\n",
    "\n",
    "# Load the dataset as a dataframe\n",
    "url = \"./troop_movements.csv\"\n",
    "df = pd.read_csv(url)"
   ]
  },
  {
   "cell_type": "code",
   "execution_count": 4,
   "metadata": {},
   "outputs": [
    {
     "name": "stdout",
     "output_type": "stream",
     "text": [
      "Counts of Empire vs Resistance:\n",
      "empire_or_resistance\n",
      "empire        510\n",
      "resistance    490\n",
      "dtype: int64\n"
     ]
    }
   ],
   "source": [
    "# group data by the \"empire_or_resistance\" column\n",
    "grouped_data = df.groupby('empire_or_resistance')\n",
    "\n",
    "# count the number of instances in each category\n",
    "counts = grouped_data.size()\n",
    "\n",
    "# display counts\n",
    "print(\"Counts of Empire vs Resistance:\")\n",
    "print(counts)"
   ]
  },
  {
   "cell_type": "code",
   "execution_count": 8,
   "metadata": {},
   "outputs": [
    {
     "name": "stdout",
     "output_type": "stream",
     "text": [
      "Counts of Characters by Homeworld:\n",
      "homeworld\n",
      "Alderaan        238792\n",
      "Aleen Minor     237711\n",
      "Bestine IV      237750\n",
      "Cerea           238600\n",
      "Champala        238268\n",
      "Chandrila       237947\n",
      "Concord Dawn    237416\n",
      "Corellia        239249\n",
      "Dagobah         238207\n",
      "Dathomir        238008\n",
      "Dorin           238053\n",
      "Eriadu          237116\n",
      "Glee Anselm     238081\n",
      "Haruun Kal      238261\n",
      "Iktotch         238525\n",
      "Iridonia        236890\n",
      "Kalee           238584\n",
      "Kashyyyk        238360\n",
      "Malastare       237656\n",
      "Mirial          238197\n",
      "Mon Cala        238398\n",
      "Muunilinst      238615\n",
      "Naboo           238709\n",
      "Ojom            238114\n",
      "Quermia         237405\n",
      "Rodia           238126\n",
      "Ryloth          237928\n",
      "Serenno         237223\n",
      "Shili           238399\n",
      "Skako           238093\n",
      "Socorro         237822\n",
      "Stewjon         238341\n",
      "Sullust         238685\n",
      "Tatooine        238722\n",
      "Tholoth         237660\n",
      "Toydaria        237526\n",
      "Trandosha       237880\n",
      "Troiken         237716\n",
      "Tund            238406\n",
      "Umbara          238799\n",
      "Vulpter         237742\n",
      "Zolan           238020\n",
      "dtype: int64\n"
     ]
    }
   ],
   "source": [
    "# group data by the \"home_world\" column\n",
    "homeworld_counts = data.groupby('homeworld').size()\n",
    "\n",
    "# display the counts for characters by homeworld\n",
    "print(\"Counts of Characters by Homeworld:\")\n",
    "print(homeworld_counts)"
   ]
  },
  {
   "cell_type": "code",
   "execution_count": 9,
   "metadata": {},
   "outputs": [
    {
     "name": "stdout",
     "output_type": "stream",
     "text": [
      "\n",
      "Counts of Characters by Unit Type:\n",
      "unit_type\n",
      "at-at                 1426525\n",
      "at-st                 1426173\n",
      "invalid_unit            10000\n",
      "resistance_soldier    1425774\n",
      "stormtrooper          1428291\n",
      "tie_fighter           1426809\n",
      "tie_silencer          1428016\n",
      "x-wing                1428412\n",
      "dtype: int64\n"
     ]
    }
   ],
   "source": [
    "# group data by the \"unit_type\" column\n",
    "unit_type_counts = data.groupby('unit_type').size()\n",
    "\n",
    "# display the counts for characters by unit type\n",
    "print(\"\\nCounts of Characters by Unit Type:\")\n",
    "print(unit_type_counts)"
   ]
  },
  {
   "cell_type": "code",
   "execution_count": 11,
   "metadata": {},
   "outputs": [
    {
     "name": "stdout",
     "output_type": "stream",
     "text": [
      "             timestamp  unit_id     unit_type empire_or_resistance  \\\n",
      "0  2024-05-21 11:36:26        1  tie_silencer               empire   \n",
      "1  2024-05-21 11:36:25        2        x-wing               empire   \n",
      "2  2024-05-21 11:36:24        3        x-wing               empire   \n",
      "3  2024-05-21 11:36:23        4        x-wing           resistance   \n",
      "4  2024-05-21 11:36:22        5       unknown           resistance   \n",
      "\n",
      "   location_x  location_y  destination_x  destination_y   homeworld  \\\n",
      "0           6           5              3              3        Tund   \n",
      "1           7           5              5              1  Haruun Kal   \n",
      "2           2           3              9              6     Troiken   \n",
      "3           2           2              9              2    Alderaan   \n",
      "4           9          10              6              9    Toydaria   \n",
      "\n",
      "   is_resistance  \n",
      "0          False  \n",
      "1          False  \n",
      "2          False  \n",
      "3           True  \n",
      "4           True  \n"
     ]
    }
   ],
   "source": [
    "# create a new feature with boolean values based on resistance or empire affiliation\n",
    "# returns True if the character belongs to the resistance and false otherwise\n",
    "df['is_resistance'] = df['empire_or_resistance'] == 'resistance'\n",
    "\n",
    "# display for testing\n",
    "print(df.head())"
   ]
  },
  {
   "cell_type": "code",
   "execution_count": 12,
   "metadata": {},
   "outputs": [
    {
     "name": "stderr",
     "output_type": "stream",
     "text": [
      "C:\\Users\\wasadmin\\AppData\\Local\\Temp\\2\\ipykernel_9840\\3972954026.py:6: FutureWarning: \n",
      "\n",
      "Passing `palette` without assigning `hue` is deprecated and will be removed in v0.14.0. Assign the `x` variable to `hue` and set `legend=False` for the same effect.\n",
      "\n",
      "  sns.countplot(x='empire_or_resistance', data=df, palette='Set1')\n"
     ]
    },
    {
     "data": {
      "image/png": "[encoded data removed]",
      "text/plain": [
       "<Figure size 800x600 with 1 Axes>"
      ]
     },
     "metadata": {},
     "output_type": "display_data"
    }
   ],
   "source": [
    "import seaborn as sns\n",
    "import matplotlib.pyplot as plt\n",
    "\n",
    "# creates a bar plot of\n",
    "plt.figure(figsize=(8, 6))\n",
    "sns.countplot(x='empire_or_resistance', data=df, palette='Set1')\n",
    "plt.title('Distribution of Characters: Empire vs Resistance')\n",
    "plt.xlabel('Faction')\n",
    "plt.ylabel('Count')\n",
    "plt.show()"
   ]
  },
  {
   "cell_type": "code",
   "execution_count": null,
   "metadata": {},
   "outputs": [],
   "source": [
    "from sklearn.tree import DecisionTreeClassifier\n",
    "from sklearn.model_selection import train_test_split\n",
    "from sklearn.metrics import accuracy_score\n",
    "\n",
    "# Features (homeworld and unit_type)\n",
    "X = df[['homeworld', 'unit_type']]\n",
    "\n",
    "# Target variable (empire_or_resistance)\n",
    "y = df['empire_or_resistance']\n",
    "\n",
    "# Convert categorical variables into numerical representation\n",
    "X = pd.get_dummies(X)\n",
    "\n",
    "# Split the data into training and testing sets (80% train, 20% test)\n",
    "X_train, X_test, y_train, y_test = train_test_split(X, y, test_size=0.2, random_state=42)\n",
    "\n",
    "# Initialize the DecisionTreeClassifier\n",
    "clf = DecisionTreeClassifier(random_state=42)\n",
    "\n",
    "# Train the model\n",
    "clf.fit(X_train, y_train)\n",
    "\n",
    "# Make predictions on the testing set\n",
    "y_pred = clf.predict(X_test)\n",
    "\n",
    "# Evaluate the model\n",
    "accuracy = accuracy_score(y_test, y_pred)\n",
    "print(\"Accuracy:\", accuracy)\n"
   ]
  }
 ],
 "metadata": {
  "kernelspec": {
   "display_name": "Python 3",
   "language": "python",
   "name": "python3"
  },
  "language_info": {
   "codemirror_mode": {
    "name": "ipython",
    "version": 3
   },
   "file_extension": ".py",
   "mimetype": "text/x-python",
   "name": "python",
   "nbconvert_exporter": "python",
   "pygments_lexer": "ipython3",
   "version": "3.12.3"
  }
 },
 "nbformat": 4,
 "nbformat_minor": 2
}
