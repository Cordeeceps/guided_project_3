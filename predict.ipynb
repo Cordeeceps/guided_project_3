{
 "cells": [
  {
   "cell_type": "code",
   "execution_count": 3,
   "metadata": {},
   "outputs": [],
   "source": [
    "import pickle\n",
    "import pandas as pd\n",
    "from sklearn.linear_model import LogisticRegression\n",
    "from sklearn.model_selection import train_test_split\n",
    "from sklearn.metrics import accuracy_score\n",
    "\n",
    "# Load the dataset as a dataframe\n",
    "url = \"./troop_movements.csv\"\n",
    "df = pd.read_csv(url)"
   ]
  },
  {
   "cell_type": "code",
   "execution_count": 4,
   "metadata": {},
   "outputs": [
    {
     "name": "stdout",
     "output_type": "stream",
     "text": [
      "Counts of Empire vs Resistance:\n",
      "empire_or_resistance\n",
      "empire        510\n",
      "resistance    490\n",
      "dtype: int64\n"
     ]
    }
   ],
   "source": [
    "# group data by the \"empire_or_resistance\" column\n",
    "grouped_data = df.groupby('empire_or_resistance')\n",
    "\n",
    "# count the number of instances in each category\n",
    "counts = grouped_data.size()\n",
    "\n",
    "# display counts\n",
    "print(\"Counts of Empire vs Resistance:\")\n",
    "print(counts)"
   ]
  },
  {
   "cell_type": "code",
   "execution_count": 8,
   "metadata": {},
   "outputs": [
    {
     "name": "stdout",
     "output_type": "stream",
     "text": [
      "Counts of Characters by Homeworld:\n",
      "homeworld\n",
      "Alderaan        238792\n",
      "Aleen Minor     237711\n",
      "Bestine IV      237750\n",
      "Cerea           238600\n",
      "Champala        238268\n",
      "Chandrila       237947\n",
      "Concord Dawn    237416\n",
      "Corellia        239249\n",
      "Dagobah         238207\n",
      "Dathomir        238008\n",
      "Dorin           238053\n",
      "Eriadu          237116\n",
      "Glee Anselm     238081\n",
      "Haruun Kal      238261\n",
      "Iktotch         238525\n",
      "Iridonia        236890\n",
      "Kalee           238584\n",
      "Kashyyyk        238360\n",
      "Malastare       237656\n",
      "Mirial          238197\n",
      "Mon Cala        238398\n",
      "Muunilinst      238615\n",
      "Naboo           238709\n",
      "Ojom            238114\n",
      "Quermia         237405\n",
      "Rodia           238126\n",
      "Ryloth          237928\n",
      "Serenno         237223\n",
      "Shili           238399\n",
      "Skako           238093\n",
      "Socorro         237822\n",
      "Stewjon         238341\n",
      "Sullust         238685\n",
      "Tatooine        238722\n",
      "Tholoth         237660\n",
      "Toydaria        237526\n",
      "Trandosha       237880\n",
      "Troiken         237716\n",
      "Tund            238406\n",
      "Umbara          238799\n",
      "Vulpter         237742\n",
      "Zolan           238020\n",
      "dtype: int64\n"
     ]
    }
   ],
   "source": [
    "# group data by the \"home_world\" column\n",
    "homeworld_counts = data.groupby('homeworld').size()\n",
    "\n",
    "# display the counts for characters by homeworld\n",
    "print(\"Counts of Characters by Homeworld:\")\n",
    "print(homeworld_counts)"
   ]
  },
  {
   "cell_type": "code",
   "execution_count": 9,
   "metadata": {},
   "outputs": [
    {
     "name": "stdout",
     "output_type": "stream",
     "text": [
      "\n",
      "Counts of Characters by Unit Type:\n",
      "unit_type\n",
      "at-at                 1426525\n",
      "at-st                 1426173\n",
      "invalid_unit            10000\n",
      "resistance_soldier    1425774\n",
      "stormtrooper          1428291\n",
      "tie_fighter           1426809\n",
      "tie_silencer          1428016\n",
      "x-wing                1428412\n",
      "dtype: int64\n"
     ]
    }
   ],
   "source": [
    "# group data by the \"unit_type\" column\n",
    "unit_type_counts = data.groupby('unit_type').size()\n",
    "\n",
    "# display the counts for characters by unit type\n",
    "print(\"\\nCounts of Characters by Unit Type:\")\n",
    "print(unit_type_counts)"
   ]
  },
  {
   "cell_type": "code",
   "execution_count": null,
   "metadata": {},
   "outputs": [],
   "source": [
    "# MODEL STUFF WOO \n",
    "# most of this is copypasta. needs a lot of editing. also half of it is just notes. \n",
    "# tl;dr - don't try to run this cell\n",
    "\n",
    "# set target variable - is_resistance is best because it's a boolean\n",
    "y = df['is_resistance']\n",
    "\n",
    "# column/s we're using to predict the target variable\n",
    "X = df[['unit_type','homeworld']]\n",
    "\n",
    "# onehotencoding to pivot data\n",
    "X_encoded = pd.get_dummies(X)\n",
    "\n",
    "# split data for testing and training\n",
    "X_train,X_test,y_train,y_test = train_test_split(X_encoded, y, test_size=0.2, random_state=42)\n",
    "\n",
    "# display for testing  \n",
    "#display(X_train) \n",
    "\n",
    "# create the model \n",
    "model = LogisticRegression()\n",
    "\n",
    "# feed the model the training data created earlier \n",
    "model.fit(X_train, y_train)\n",
    "\n",
    "# show the predictions used by the testing - pass in the values you want to predict\n",
    "y_pred = model.predict(X_test)\n",
    "\n",
    "# compare test values to predicted values for our target and prints results \n",
    "# lower than 70% isn't good, 100% is also really suspicious \n",
    "accuracy = accuracy_score(y_test, y_pred)\n",
    "print(accuracy)\n",
    "\n",
    "# save whatever we have in memory (the model we trained) to the local disk\n",
    "# we can now use this model for future stuff\n",
    "filename = \"model.pkl\"\n",
    "with open(filename,\"wb\") as file: \n",
    "    pickle.dump(model,file)"
   ]
  }
 ],
 "metadata": {
  "kernelspec": {
   "display_name": "Python 3",
   "language": "python",
   "name": "python3"
  },
  "language_info": {
   "codemirror_mode": {
    "name": "ipython",
    "version": 3
   },
   "file_extension": ".py",
   "mimetype": "text/x-python",
   "name": "python",
   "nbconvert_exporter": "python",
   "pygments_lexer": "ipython3",
   "version": "3.12.3"
  }
 },
 "nbformat": 4,
 "nbformat_minor": 2
}
